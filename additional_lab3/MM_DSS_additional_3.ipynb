{
 "cells": [
  {
   "cell_type": "code",
   "execution_count": 1,
   "id": "95a3b2fe",
   "metadata": {},
   "outputs": [],
   "source": [
    "import numpy as np"
   ]
  },
  {
   "cell_type": "code",
   "execution_count": 2,
   "id": "33769444",
   "metadata": {},
   "outputs": [],
   "source": [
    "input_matrix = [\n",
    "    [33,10,20,26.5],\n",
    "    [50,67,11.5,25],\n",
    "    [23.5,35,40,58.5]\n",
    "]\n",
    "\n",
    "probas = [0.3, 0.2, 0.4, 0.1]\n",
    "alf = 0.5"
   ]
  },
  {
   "cell_type": "markdown",
   "id": "1dc177c4",
   "metadata": {},
   "source": [
    "## Байес"
   ]
  },
  {
   "cell_type": "markdown",
   "id": "3a2dc565",
   "metadata": {},
   "source": [
    "Максимизируем средний выигрыш или минимизируем средний риск."
   ]
  },
  {
   "cell_type": "code",
   "execution_count": 4,
   "id": "4754bfe5",
   "metadata": {},
   "outputs": [],
   "source": [
    "def bayes(input_matrix, probas):\n",
    "    input_matrix_np = np.array(input_matrix)\n",
    "    probas_np = np.array(probas)\n",
    "\n",
    "    output_matrix = input_matrix_np * probas_np[:, np.newaxis].T\n",
    "    output_vector = [sum(x) for x in output_matrix]\n",
    "    print(f'Вектор v по критерию Байеса: {output_vector}')\n",
    "    \n",
    "    print(f'Лучшая стратегия по критерию Байеса: {np.argmax(output_vector)+1}')\n",
    "    \n",
    "    \n",
    "    return np.argmax(output_vector)+1"
   ]
  },
  {
   "cell_type": "markdown",
   "id": "1d954c4a",
   "metadata": {},
   "source": [
    "## Лаплас"
   ]
  },
  {
   "cell_type": "markdown",
   "id": "a3c78f72",
   "metadata": {},
   "source": [
    "Все вероятности принимаем одинаковыми."
   ]
  },
  {
   "cell_type": "code",
   "execution_count": 6,
   "id": "a1cbd146",
   "metadata": {},
   "outputs": [],
   "source": [
    "def laplace(input_matrix):\n",
    "    input_matrix_np = np.array(input_matrix)\n",
    "    probas_np = np.array([1/len(input_matrix[0])] * len(input_matrix[0]))\n",
    "\n",
    "    output_matrix = input_matrix_np * probas_np[:, np.newaxis].T\n",
    "    output_vector = [sum(x) for x in output_matrix]\n",
    "    print(f'Вектор v по критерию Лапласа: {output_vector}')\n",
    "    \n",
    "    print(f'Лучшая стратегия по критерию Лапласа: {np.argmax(output_vector)+1}')\n",
    "    \n",
    "    \n",
    "    return np.argmax(output_vector)+1"
   ]
  },
  {
   "cell_type": "markdown",
   "id": "d9ad9fcb",
   "metadata": {},
   "source": [
    "## Вальд"
   ]
  },
  {
   "cell_type": "markdown",
   "id": "aaa7a102",
   "metadata": {},
   "source": [
    "Оптимальная стратегия гарантирует максимальный выигрыш в худших условиях."
   ]
  },
  {
   "cell_type": "code",
   "execution_count": 7,
   "id": "b0004701",
   "metadata": {},
   "outputs": [],
   "source": [
    "def vald(input_matrix):\n",
    "    \n",
    "    \n",
    "    output_vector = [min(x) for x in input_matrix]\n",
    "    print(f'Вектор v по критерию Вальда: {output_vector}')\n",
    "    \n",
    "    print(f'Лучшая стратегия по критерию Вальда: {np.argmax(output_vector)+1}')\n",
    "    \n",
    "    \n",
    "    return np.argmax(output_vector)+1"
   ]
  },
  {
   "cell_type": "markdown",
   "id": "862838f0",
   "metadata": {},
   "source": [
    "## Севидж"
   ]
  },
  {
   "cell_type": "markdown",
   "id": "39e6f3ac",
   "metadata": {},
   "source": [
    "Оптимальная стратегия - та, при которой величина максимального риска минимизируется в худших условиях.\n",
    "\n",
    "Риск – мера несоответствия между разными возможными результатами принятия определенных стратегий"
   ]
  },
  {
   "cell_type": "code",
   "execution_count": 8,
   "id": "1dd7b9fd",
   "metadata": {},
   "outputs": [],
   "source": [
    "def sadvig(input_matrix):\n",
    "    \n",
    "    input_matrix_np = np.array(input_matrix)\n",
    "    max_values = input_matrix_np.max(axis=0)\n",
    "    \n",
    "    output_vector = [-max(x) for x in max_values - input_matrix_np]\n",
    "    print(f'Вектор v по критерию Севиджа: {output_vector}')\n",
    "    \n",
    "    \n",
    "    print(f'Лучшая стратегия по критерию Севиджа: {np.argmax(output_vector)+1}')\n",
    "    \n",
    "    return np.argmax(output_vector)+1"
   ]
  },
  {
   "cell_type": "markdown",
   "id": "c0aa5ab6",
   "metadata": {},
   "source": [
    "## Гурвиц"
   ]
  },
  {
   "cell_type": "markdown",
   "id": "4bd32fc1",
   "metadata": {},
   "source": [
    "Является критерием пессимизма-оптимизма, регулируется дополнительным параметром"
   ]
  },
  {
   "cell_type": "code",
   "execution_count": 9,
   "id": "98c6af19",
   "metadata": {},
   "outputs": [],
   "source": [
    "def gurviz(input_matrix, alf):\n",
    "    output_vector = [alf*min(x)+(1-alf)*max(x) for x in input_matrix]\n",
    "    \n",
    "    print(f'Вектор v по критерию Гурвица: {output_vector}')\n",
    "    print(f'Лучшая стратегия по критерию Гурвица: {np.argmax(output_vector)+1}')\n",
    "    return np.argmax(output_vector)+1"
   ]
  },
  {
   "cell_type": "markdown",
   "id": "4b9334a2",
   "metadata": {},
   "source": [
    "## Результат"
   ]
  },
  {
   "cell_type": "code",
   "execution_count": 12,
   "id": "ed971cce",
   "metadata": {},
   "outputs": [],
   "source": [
    "def find_best_strategy(input_matrix, probas, alf):\n",
    "    strategies = []\n",
    "    strategies.append(bayes(input_matrix, probas))\n",
    "    strategies.append(laplace(input_matrix))\n",
    "    strategies.append(vald(input_matrix))\n",
    "    strategies.append(sadvig(input_matrix))\n",
    "    strategies.append(gurviz(input_matrix, alf))\n",
    "    print('\\n\\n')\n",
    "    print(f'Лучшая стратегия: {max(set(strategies), key=strategies.count)}')"
   ]
  },
  {
   "cell_type": "code",
   "execution_count": 13,
   "id": "f7b3ba44",
   "metadata": {},
   "outputs": [
    {
     "name": "stdout",
     "output_type": "stream",
     "text": [
      "Вектор v по критерию Байеса: [22.549999999999997, 35.5, 35.9]\n",
      "Лучшая стратегия по критерию Байеса: 3\n",
      "Вектор v по критерию Лапласа: [22.375, 38.375, 39.25]\n",
      "Лучшая стратегия по критерию Лапласа: 3\n",
      "Вектор v по критерию Вальда: [10, 11.5, 23.5]\n",
      "Лучшая стратегия по критерию Вальда: 3\n",
      "Вектор v по критерию Севиджа: [-57.0, -33.5, -32.0]\n",
      "Лучшая стратегия по критерию Севиджа: 3\n",
      "Вектор v по критерию Гурвица: [21.5, 39.25, 41.0]\n",
      "Лучшая стратегия по критерию Гурвица: 3\n",
      "\n",
      "\n",
      "\n",
      "Лучшая стратегия: 3\n"
     ]
    }
   ],
   "source": [
    "find_best_strategy(input_matrix, probas, alf)"
   ]
  },
  {
   "cell_type": "code",
   "execution_count": null,
   "id": "a9d685ea",
   "metadata": {},
   "outputs": [],
   "source": []
  }
 ],
 "metadata": {
  "kernelspec": {
   "display_name": "Python 3 (ipykernel)",
   "language": "python",
   "name": "python3"
  },
  "language_info": {
   "codemirror_mode": {
    "name": "ipython",
    "version": 3
   },
   "file_extension": ".py",
   "mimetype": "text/x-python",
   "name": "python",
   "nbconvert_exporter": "python",
   "pygments_lexer": "ipython3",
   "version": "3.9.17"
  },
  "toc": {
   "base_numbering": 1,
   "nav_menu": {},
   "number_sections": true,
   "sideBar": true,
   "skip_h1_title": true,
   "title_cell": "Table of Contents",
   "title_sidebar": "Contents",
   "toc_cell": true,
   "toc_position": {},
   "toc_section_display": true,
   "toc_window_display": false
  }
 },
 "nbformat": 4,
 "nbformat_minor": 5
}
