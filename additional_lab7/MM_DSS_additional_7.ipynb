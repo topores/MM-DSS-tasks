{
 "cells": [
  {
   "cell_type": "code",
   "execution_count": 1,
   "id": "02ebd0dd",
   "metadata": {},
   "outputs": [],
   "source": [
    "import numpy as np "
   ]
  },
  {
   "cell_type": "code",
   "execution_count": 2,
   "id": "a204a84a",
   "metadata": {},
   "outputs": [],
   "source": [
    "input_matrix = [\n",
    "    [1.5, 2.0, 3.5, 3.0, 4.0], \n",
    "    [2.5, 3.0, 1.5, 2.0, 1.0], \n",
    "    [2.5, 2.0, 3.0, 3.5, 2.0],\n",
    "    [3.0, 3.5, 2.5, 4.0, 1.0]]\n",
    "input_matrix = np.array(input_matrix)"
   ]
  },
  {
   "cell_type": "code",
   "execution_count": 3,
   "id": "61c27672",
   "metadata": {},
   "outputs": [],
   "source": [
    "input_matrix = np.array(input_matrix)\n",
    "B = input_matrix@input_matrix.T\n",
    "C = input_matrix.T@input_matrix"
   ]
  },
  {
   "cell_type": "code",
   "execution_count": 4,
   "id": "d39c7410",
   "metadata": {},
   "outputs": [],
   "source": [
    "def find_vector(matrix):\n",
    "    # Перемножение элементов в каждой строке\n",
    "    \n",
    "    product_per_row = np.prod(matrix, axis=0)\n",
    "    result = np.power(product_per_row, 1/matrix.shape[1] )\n",
    "    \n",
    "    # Нормировка\n",
    "    return result / np.sum(result)"
   ]
  },
  {
   "cell_type": "code",
   "execution_count": 5,
   "id": "c96a84fa",
   "metadata": {},
   "outputs": [
    {
     "name": "stdout",
     "output_type": "stream",
     "text": [
      "Коэффициенты обобщенной оценки объектов:  [0.26444534 0.19691259 0.25621166 0.28243041]\n"
     ]
    }
   ],
   "source": [
    "esimations = find_vector(B)\n",
    "print('Коэффициенты обобщенной оценки объектов: ', esimations)"
   ]
  },
  {
   "cell_type": "code",
   "execution_count": 6,
   "id": "1d3cb206",
   "metadata": {},
   "outputs": [
    {
     "name": "stdout",
     "output_type": "stream",
     "text": [
      "Коэффициенты компетентности экспертов:  [0.18143643 0.20049143 0.20980533 0.2475879  0.16067892]\n"
     ]
    }
   ],
   "source": [
    "competence = find_vector(C)\n",
    "print('Коэффициенты компетентности экспертов: ', competence)"
   ]
  },
  {
   "cell_type": "code",
   "execution_count": null,
   "id": "b570d5e1",
   "metadata": {},
   "outputs": [],
   "source": []
  }
 ],
 "metadata": {
  "kernelspec": {
   "display_name": "Python 3 (ipykernel)",
   "language": "python",
   "name": "python3"
  },
  "language_info": {
   "codemirror_mode": {
    "name": "ipython",
    "version": 3
   },
   "file_extension": ".py",
   "mimetype": "text/x-python",
   "name": "python",
   "nbconvert_exporter": "python",
   "pygments_lexer": "ipython3",
   "version": "3.9.17"
  },
  "toc": {
   "base_numbering": 1,
   "nav_menu": {},
   "number_sections": true,
   "sideBar": true,
   "skip_h1_title": true,
   "title_cell": "Table of Contents",
   "title_sidebar": "Contents",
   "toc_cell": true,
   "toc_position": {},
   "toc_section_display": true,
   "toc_window_display": false
  }
 },
 "nbformat": 4,
 "nbformat_minor": 5
}
